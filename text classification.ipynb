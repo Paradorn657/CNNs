{
  "nbformat": 4,
  "nbformat_minor": 0,
  "metadata": {
    "colab": {
      "name": "Untitled",
      "provenance": [],
      "collapsed_sections": [],
      "authorship_tag": "ABX9TyOk0cfdYaxKcJ7EJmgeMNnk",
      "include_colab_link": true
    },
    "kernelspec": {
      "name": "python3",
      "display_name": "Python 3"
    },
    "accelerator": "GPU"
  },
  "cells": [
    {
      "cell_type": "markdown",
      "metadata": {
        "id": "view-in-github",
        "colab_type": "text"
      },
      "source": [
        "<a href=\"https://colab.research.google.com/github/Paradorn657/CNNs/blob/master/text%20classification.ipynb\" target=\"_parent\"><img src=\"https://colab.research.google.com/assets/colab-badge.svg\" alt=\"Open In Colab\"/></a>"
      ]
    },
    {
      "cell_type": "code",
      "metadata": {
        "id": "eL4FLg4Pi8KA",
        "colab_type": "code",
        "colab": {
          "base_uri": "https://localhost:8080/",
          "height": 272
        },
        "outputId": "03a1c013-9961-4a98-c78b-c5cb0d89d8bd"
      },
      "source": [
        "!pip install attacut"
      ],
      "execution_count": 29,
      "outputs": [
        {
          "output_type": "stream",
          "text": [
            "Requirement already satisfied: attacut in /usr/local/lib/python3.6/dist-packages (1.0.6)\n",
            "Requirement already satisfied: ssg>=0.0.4 in /usr/local/lib/python3.6/dist-packages (from attacut) (0.0.6)\n",
            "Requirement already satisfied: pyyaml>=5.1.2 in /usr/local/lib/python3.6/dist-packages (from attacut) (5.3.1)\n",
            "Requirement already satisfied: numpy>=1.17.0 in /usr/local/lib/python3.6/dist-packages (from attacut) (1.18.4)\n",
            "Requirement already satisfied: docopt>=0.6.2 in /usr/local/lib/python3.6/dist-packages (from attacut) (0.6.2)\n",
            "Requirement already satisfied: nptyping>=0.2.0 in /usr/local/lib/python3.6/dist-packages (from attacut) (1.1.0)\n",
            "Requirement already satisfied: torch>=1.2.0 in /usr/local/lib/python3.6/dist-packages (from attacut) (1.5.0+cu101)\n",
            "Requirement already satisfied: fire>=0.1.3 in /usr/local/lib/python3.6/dist-packages (from attacut) (0.3.1)\n",
            "Requirement already satisfied: six>=1.12.0 in /usr/local/lib/python3.6/dist-packages (from attacut) (1.12.0)\n",
            "Requirement already satisfied: python-crfsuite>=0.9.6 in /usr/local/lib/python3.6/dist-packages (from ssg>=0.0.4->attacut) (0.9.7)\n",
            "Requirement already satisfied: tqdm>=4.32.2 in /usr/local/lib/python3.6/dist-packages (from ssg>=0.0.4->attacut) (4.41.1)\n",
            "Requirement already satisfied: typish>=1.5.2 in /usr/local/lib/python3.6/dist-packages (from nptyping>=0.2.0->attacut) (1.7.0)\n",
            "Requirement already satisfied: future in /usr/local/lib/python3.6/dist-packages (from torch>=1.2.0->attacut) (0.16.0)\n",
            "Requirement already satisfied: termcolor in /usr/local/lib/python3.6/dist-packages (from fire>=0.1.3->attacut) (1.1.0)\n"
          ],
          "name": "stdout"
        }
      ]
    },
    {
      "cell_type": "code",
      "metadata": {
        "id": "PhB8CEkCoMCh",
        "colab_type": "code",
        "colab": {}
      },
      "source": [
        "from attacut import tokenize"
      ],
      "execution_count": 0,
      "outputs": []
    },
    {
      "cell_type": "code",
      "metadata": {
        "id": "r1R7KK34ocuf",
        "colab_type": "code",
        "colab": {}
      },
      "source": [
        "Xtrain = [\"อ่อนแอก็แพ้ไป คนไหวเขาจะยืน\",\n",
        "          \"หวยออกต้นเดือน\",\n",
        "          \"สวัสดีครับ คุณผู้ชม\",\n",
        "          \"เบื่อความร้อนต้องการความรัก\",\n",
        "          \"ผู้ไม่มีแผลเป็นคือ ผู้ไม่มีประสบการณ์\",\n",
        "          \"ความลำบากที่เกินทน จะหลอมคนให้ทนทาน\",\n",
        "          \"อวกาศ เป็นที่มืด\"\n",
        "          ]\n",
        "Ytrain = [\"คำคม\",\n",
        "          \"ไม่ใช่คำคม\",\n",
        "          \"ไม่ใช่คำคม\",\n",
        "          \"คำคม\",\n",
        "          \"คำคม\",\n",
        "          \"คำคม\",\n",
        "          \"ไม่ใช่คำคม\"\n",
        "          ]\n",
        "Xtest = [\"เมื่อไม่มีสิ่งที่ชอบ ก็ต้องชอบสิ่งที่มี\",\"ภูเขา สวยดี\",\"ผมรักคุณ\"]"
      ],
      "execution_count": 0,
      "outputs": []
    },
    {
      "cell_type": "code",
      "metadata": {
        "id": "lS_4X3Dhoc3v",
        "colab_type": "code",
        "colab": {}
      },
      "source": [
        "import gdown\n",
        "import tensorflow as tf\n",
        "from tensorflow import keras\n",
        "import numpy as np\n",
        "import re"
      ],
      "execution_count": 0,
      "outputs": []
    },
    {
      "cell_type": "code",
      "metadata": {
        "id": "9sjdxEq5pSXm",
        "colab_type": "code",
        "outputId": "7da43ca0-3736-4f89-853c-f62d0ceaf300",
        "colab": {
          "base_uri": "https://localhost:8080/",
          "height": 108
        }
      },
      "source": [
        "gdown.download('https://drive.google.com/uc?id=0B0ZXk88koS2KV1FJN0xRX1FxaFE&export=download', 'th.zip', quiet=False) "
      ],
      "execution_count": 33,
      "outputs": [
        {
          "output_type": "stream",
          "text": [
            "Downloading...\n",
            "From: https://drive.google.com/uc?id=0B0ZXk88koS2KV1FJN0xRX1FxaFE&export=download\n",
            "To: /content/th.zip\n",
            "122MB [00:01, 99.0MB/s]\n"
          ],
          "name": "stderr"
        },
        {
          "output_type": "execute_result",
          "data": {
            "text/plain": [
              "'th.zip'"
            ]
          },
          "metadata": {
            "tags": []
          },
          "execution_count": 33
        }
      ]
    },
    {
      "cell_type": "code",
      "metadata": {
        "id": "jop3tyqdpWxX",
        "colab_type": "code",
        "outputId": "2d8e7a41-df8c-4a18-81e7-08f744de61d8",
        "colab": {
          "base_uri": "https://localhost:8080/",
          "height": 90
        }
      },
      "source": [
        "!unzip th.zip"
      ],
      "execution_count": 34,
      "outputs": [
        {
          "output_type": "stream",
          "text": [
            "Archive:  th.zip\n",
            "replace th.bin? [y]es, [n]o, [A]ll, [N]one, [r]ename: A\n",
            "  inflating: th.bin                  \n",
            "  inflating: th.tsv                  \n"
          ],
          "name": "stdout"
        }
      ]
    },
    {
      "cell_type": "code",
      "metadata": {
        "id": "X4yll7Zxqszy",
        "colab_type": "code",
        "outputId": "7c26754c-7bcf-4b50-add4-286eadc21b56",
        "colab": {
          "base_uri": "https://localhost:8080/",
          "height": 126
        }
      },
      "source": [
        "with open('th.tsv') as f:\n",
        "  vocab = []\n",
        "  W = None\n",
        "  vec = ''\n",
        "  for line in f.readlines():\n",
        "    temp = line.split('\\t')\n",
        "    if len(temp) == 3:\n",
        "      vocab.append(temp[1])\n",
        "      if int(temp[0]) % 1000 == 0:\n",
        "        print('\\r' + temp[0], end='')\n",
        "      wordvector = np.fromstring(re.sub('\\s+', ' ', vec)[1:-1], sep=' ', dtype=np.float32)\n",
        "      if len(wordvector) > 0:\n",
        "        if W is None:\n",
        "          W = wordvector.copy()\n",
        "        else:\n",
        "          W = np.vstack((W, wordvector))\n",
        "      vec = temp[-1]\n",
        "    elif len(temp) == 1:\n",
        "      vec += temp[-1]\n",
        "  W = np.vstack((W, wordvector))\n",
        "print('\\n')\n",
        "print(len(vocab))\n",
        "print(W.shape)"
      ],
      "execution_count": 35,
      "outputs": [
        {
          "output_type": "stream",
          "text": [
            "\r0"
          ],
          "name": "stdout"
        },
        {
          "output_type": "stream",
          "text": [
            "/usr/local/lib/python3.6/dist-packages/ipykernel_launcher.py:11: DeprecationWarning: string or file could not be read to its end due to unmatched data; this will raise a ValueError in the future.\n",
            "  # This is added back by InteractiveShellApp.init_path()\n"
          ],
          "name": "stderr"
        },
        {
          "output_type": "stream",
          "text": [
            "30000\n",
            "\n",
            "30225\n",
            "(30225, 300)\n"
          ],
          "name": "stdout"
        }
      ]
    },
    {
      "cell_type": "code",
      "metadata": {
        "id": "EBaO5rqiuxGm",
        "colab_type": "code",
        "colab": {}
      },
      "source": [
        "def sent2idx(x):\n",
        "  xidx = []\n",
        "  for w in tokenize(x):\n",
        "    if w in vocab:\n",
        "      xidx.append(vocab.index(w))\n",
        "  return np.array(xidx)"
      ],
      "execution_count": 0,
      "outputs": []
    },
    {
      "cell_type": "code",
      "metadata": {
        "id": "84OoD2p0Ap7f",
        "colab_type": "code",
        "colab": {
          "base_uri": "https://localhost:8080/",
          "height": 35
        },
        "outputId": "6055b280-aa4c-4dc6-ae1b-fac52f04d4bb"
      },
      "source": [
        "tokenize(Xtrain[2])"
      ],
      "execution_count": 37,
      "outputs": [
        {
          "output_type": "execute_result",
          "data": {
            "text/plain": [
              "['สวัสดี', 'ครับ', ' ', 'คุณ', 'ผู้', 'ชม']"
            ]
          },
          "metadata": {
            "tags": []
          },
          "execution_count": 37
        }
      ]
    },
    {
      "cell_type": "code",
      "metadata": {
        "id": "yI37KjwdAcih",
        "colab_type": "code",
        "colab": {
          "base_uri": "https://localhost:8080/",
          "height": 145
        },
        "outputId": "d78317fe-e42a-4678-90b2-ed61bd7dedbe"
      },
      "source": [
        "Xtrain_idx = []\n",
        "maxlen = 0\n",
        "for x in Xtrain:\n",
        "  Xtrain_idx.append(sent2idx(x))\n",
        "  if len(Xtrain_idx[-1]) > maxlen:\n",
        "    maxlen = len(Xtrain_idx[-1])\n",
        "  print(len(Xtrain_idx[-1]))"
      ],
      "execution_count": 38,
      "outputs": [
        {
          "output_type": "stream",
          "text": [
            "9\n",
            "4\n",
            "5\n",
            "6\n",
            "10\n",
            "10\n",
            "4\n"
          ],
          "name": "stdout"
        }
      ]
    },
    {
      "cell_type": "code",
      "metadata": {
        "id": "71HzvYAcASAi",
        "colab_type": "code",
        "colab": {
          "base_uri": "https://localhost:8080/",
          "height": 145
        },
        "outputId": "532bbbba-7e50-4fc4-d82b-529d966ce28a"
      },
      "source": [
        "Xtrain_idx"
      ],
      "execution_count": 39,
      "outputs": [
        {
          "output_type": "execute_result",
          "data": {
            "text/plain": [
              "[array([3366,   27,  518,   17,   30, 1677,   52,   13, 1562]),\n",
              " array([9452,   39,  297,  182]),\n",
              " array([4740,  346,  317,   22,  814]),\n",
              " array([4343,   16,  307,  465,   16,  164]),\n",
              " array([  22,   20,    7, 2851,    2,   46,   22,   20,    7, 1831]),\n",
              " array([  16, 2863,    0,  638, 2564,   13, 4934,   30,   18, 5715]),\n",
              " array([1364,    2,    0, 1980])]"
            ]
          },
          "metadata": {
            "tags": []
          },
          "execution_count": 39
        }
      ]
    },
    {
      "cell_type": "code",
      "metadata": {
        "id": "OLeuWQ_jA1Tj",
        "colab_type": "code",
        "colab": {
          "base_uri": "https://localhost:8080/",
          "height": 35
        },
        "outputId": "95ab1088-3838-4bf1-a4fa-c4161d9a100c"
      },
      "source": [
        "len(vocab)"
      ],
      "execution_count": 40,
      "outputs": [
        {
          "output_type": "execute_result",
          "data": {
            "text/plain": [
              "30225"
            ]
          },
          "metadata": {
            "tags": []
          },
          "execution_count": 40
        }
      ]
    },
    {
      "cell_type": "code",
      "metadata": {
        "id": "LbX-auOSSbGF",
        "colab_type": "code",
        "colab": {
          "base_uri": "https://localhost:8080/",
          "height": 35
        },
        "outputId": "5929d9de-af53-4260-ab9c-780c7925aef5"
      },
      "source": [
        "vocab = [''] + vocab\n",
        "print(len(vocab))"
      ],
      "execution_count": 41,
      "outputs": [
        {
          "output_type": "stream",
          "text": [
            "30226\n"
          ],
          "name": "stdout"
        }
      ]
    },
    {
      "cell_type": "code",
      "metadata": {
        "id": "Q4l4RMzepQz9",
        "colab_type": "code",
        "colab": {
          "base_uri": "https://localhost:8080/",
          "height": 35
        },
        "outputId": "083bb0c4-5901-461e-d286-8bd21fa635eb"
      },
      "source": [
        "W.shape"
      ],
      "execution_count": 42,
      "outputs": [
        {
          "output_type": "execute_result",
          "data": {
            "text/plain": [
              "(30225, 300)"
            ]
          },
          "metadata": {
            "tags": []
          },
          "execution_count": 42
        }
      ]
    },
    {
      "cell_type": "code",
      "metadata": {
        "id": "P313YRdlpPH7",
        "colab_type": "code",
        "colab": {}
      },
      "source": [
        "W = np.vstack((np.random.rand(*W[0].shape), W))"
      ],
      "execution_count": 0,
      "outputs": []
    },
    {
      "cell_type": "code",
      "metadata": {
        "id": "vlQlsJ1op9df",
        "colab_type": "code",
        "colab": {}
      },
      "source": [
        "W[1]"
      ],
      "execution_count": 0,
      "outputs": []
    },
    {
      "cell_type": "code",
      "metadata": {
        "id": "SqahJ1tCVd5S",
        "colab_type": "code",
        "colab": {
          "base_uri": "https://localhost:8080/",
          "height": 35
        },
        "outputId": "95540410-8f34-4b7a-ead7-519216eae444"
      },
      "source": [
        "vocab[0]"
      ],
      "execution_count": 45,
      "outputs": [
        {
          "output_type": "execute_result",
          "data": {
            "text/plain": [
              "''"
            ]
          },
          "metadata": {
            "tags": []
          },
          "execution_count": 45
        }
      ]
    },
    {
      "cell_type": "code",
      "metadata": {
        "id": "0hPAyi4OYMPC",
        "colab_type": "code",
        "colab": {}
      },
      "source": [
        "for i,x in enumerate(Xtrain_idx):\n",
        "    if len(x) < maxlen:\n",
        "      Xtrain_idx[i] = np.hstack((x,np.zeros(maxlen-len(x))))\n",
        "Xtrain_idx = np.array(Xtrain_idx)"
      ],
      "execution_count": 0,
      "outputs": []
    },
    {
      "cell_type": "code",
      "metadata": {
        "id": "gns6p76Dn4Mf",
        "colab_type": "code",
        "colab": {
          "base_uri": "https://localhost:8080/",
          "height": 35
        },
        "outputId": "86bc9b00-0b86-4eef-d540-dfcdb8c4e845"
      },
      "source": [
        "Xtrain_idx.shape"
      ],
      "execution_count": 47,
      "outputs": [
        {
          "output_type": "execute_result",
          "data": {
            "text/plain": [
              "(7, 10)"
            ]
          },
          "metadata": {
            "tags": []
          },
          "execution_count": 47
        }
      ]
    },
    {
      "cell_type": "code",
      "metadata": {
        "id": "iQiyA6KcpD02",
        "colab_type": "code",
        "colab": {}
      },
      "source": [
        "model = keras.Sequential()\n",
        "model.add(keras.layers.Embedding(W.shape[0], W.shape[1], name='embed'))\n",
        "model.add(keras.layers.Bidirectional(keras.layers.LSTM(8, return_sequences=True)))\n",
        "model.add(keras.layers.Bidirectional(keras.layers.LSTM(4)))\n",
        "model.add(keras.layers.Dense(64, activation='relu'))\n",
        "model.add(keras.layers.Dense(2,activation=\"softmax\"))\n",
        "\n",
        "model.compile(loss=keras.losses.sparse_categorical_crossentropy, optimizer=keras.optimizers.Adam())"
      ],
      "execution_count": 0,
      "outputs": []
    },
    {
      "cell_type": "code",
      "metadata": {
        "id": "GCWWL2Vbw-Nm",
        "colab_type": "code",
        "colab": {}
      },
      "source": [
        "model.get_layer('embed').set_weights([W])\n",
        "model.get_layer('embed').trainable = False"
      ],
      "execution_count": 0,
      "outputs": []
    },
    {
      "cell_type": "code",
      "metadata": {
        "id": "nvF7Q-TjxmkA",
        "colab_type": "code",
        "colab": {}
      },
      "source": [
        "model.fit(Xtrain_idx, np.array([1,0,0,1,1,1,0]), epochs=100)"
      ],
      "execution_count": 0,
      "outputs": []
    },
    {
      "cell_type": "code",
      "metadata": {
        "id": "zJ3-Na03yDSI",
        "colab_type": "code",
        "colab": {
          "base_uri": "https://localhost:8080/",
          "height": 35
        },
        "outputId": "01467312-10cb-4552-ce78-e837c601ffcb"
      },
      "source": [
        "model.predict(Xtrain_idx).argmax(axis=1)"
      ],
      "execution_count": 60,
      "outputs": [
        {
          "output_type": "execute_result",
          "data": {
            "text/plain": [
              "array([1, 0, 0, 1, 1, 1, 0])"
            ]
          },
          "metadata": {
            "tags": []
          },
          "execution_count": 60
        }
      ]
    },
    {
      "cell_type": "code",
      "metadata": {
        "id": "Cc9NtUEAyrsY",
        "colab_type": "code",
        "colab": {}
      },
      "source": [
        "Xtest_idx = []\n",
        "for x in Xtest:\n",
        "  Xtest_idx.append(sent2idx(x))\n",
        "  if len(Xtest_idx[-1]) > maxlen:\n",
        "    Xtest_idx[-1] =  Xtest_idx[-1][:maxlen]\n",
        "  else:\n",
        "    Xtest_idx[-1] = np.hstack((Xtest_idx[-1], np.zeros(maxlen-len(Xtest_idx[-1]))))\n",
        "Xtest_idx = np.array(Xtest_idx)"
      ],
      "execution_count": 0,
      "outputs": []
    },
    {
      "cell_type": "code",
      "metadata": {
        "id": "ODztAVRS0Ff8",
        "colab_type": "code",
        "colab": {
          "base_uri": "https://localhost:8080/",
          "height": 126
        },
        "outputId": "6147e5dc-6d57-4151-8826-805391b041ee"
      },
      "source": [
        "Xtest_idx"
      ],
      "execution_count": 70,
      "outputs": [
        {
          "output_type": "execute_result",
          "data": {
            "text/plain": [
              "array([[3.400e+01, 2.100e+01, 8.000e+00, 3.050e+02, 1.000e+00, 5.210e+02,\n",
              "        2.800e+01, 9.900e+01, 5.210e+02, 3.050e+02],\n",
              "       [1.426e+03, 1.037e+03, 7.800e+01, 0.000e+00, 0.000e+00, 0.000e+00,\n",
              "        0.000e+00, 0.000e+00, 0.000e+00, 0.000e+00],\n",
              "       [0.000e+00, 0.000e+00, 0.000e+00, 0.000e+00, 0.000e+00, 0.000e+00,\n",
              "        0.000e+00, 0.000e+00, 0.000e+00, 0.000e+00]])"
            ]
          },
          "metadata": {
            "tags": []
          },
          "execution_count": 70
        }
      ]
    },
    {
      "cell_type": "code",
      "metadata": {
        "id": "ufO04Zm40gN3",
        "colab_type": "code",
        "colab": {
          "base_uri": "https://localhost:8080/",
          "height": 35
        },
        "outputId": "406b611e-a62f-45d4-d058-bc6c01e01ec7"
      },
      "source": [
        "model.predict(Xtest_idx).argmax(axis=1)"
      ],
      "execution_count": 71,
      "outputs": [
        {
          "output_type": "execute_result",
          "data": {
            "text/plain": [
              "array([1, 0, 0])"
            ]
          },
          "metadata": {
            "tags": []
          },
          "execution_count": 71
        }
      ]
    }
  ]
}