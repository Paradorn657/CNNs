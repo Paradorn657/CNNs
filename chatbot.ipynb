{
  "nbformat": 4,
  "nbformat_minor": 0,
  "metadata": {
    "colab": {
      "name": "Untitled28.ipynb",
      "provenance": [],
      "toc_visible": true,
      "authorship_tag": "ABX9TyPCbdkYkpbZh4BqX4AlSGHe",
      "include_colab_link": true
    },
    "kernelspec": {
      "name": "python3",
      "display_name": "Python 3"
    },
    "accelerator": "GPU"
  },
  "cells": [
    {
      "cell_type": "markdown",
      "metadata": {
        "id": "view-in-github",
        "colab_type": "text"
      },
      "source": [
        "<a href=\"https://colab.research.google.com/github/Paradorn657/CNNs/blob/master/chatbot.ipynb\" target=\"_parent\"><img src=\"https://colab.research.google.com/assets/colab-badge.svg\" alt=\"Open In Colab\"/></a>"
      ]
    },
    {
      "cell_type": "code",
      "metadata": {
        "id": "kMDJVaXuxB4A",
        "colab_type": "code",
        "colab": {
          "base_uri": "https://localhost:8080/",
          "height": 272
        },
        "outputId": "d756069f-af71-4644-8a81-a9f7d202df52"
      },
      "source": [
        "!pip install attacut\n",
        "import tensorflow as tf \n",
        "from tensorflow import keras\n",
        "import random\n",
        "import json\n",
        "import numpy as np\n",
        "from attacut import tokenize\n",
        "import pickle\n",
        "\n",
        "import re\n",
        "\n",
        "\n",
        "with open(\"/content/sample_data/intents.json\",encoding='utf-8') as file:\n",
        "    data = json.load(file)"
      ],
      "execution_count": 1,
      "outputs": [
        {
          "output_type": "stream",
          "text": [
            "Requirement already satisfied: attacut in /usr/local/lib/python3.6/dist-packages (1.0.6)\n",
            "Requirement already satisfied: fire>=0.1.3 in /usr/local/lib/python3.6/dist-packages (from attacut) (0.3.1)\n",
            "Requirement already satisfied: torch>=1.2.0 in /usr/local/lib/python3.6/dist-packages (from attacut) (1.5.1+cu101)\n",
            "Requirement already satisfied: docopt>=0.6.2 in /usr/local/lib/python3.6/dist-packages (from attacut) (0.6.2)\n",
            "Requirement already satisfied: pyyaml>=5.1.2 in /usr/local/lib/python3.6/dist-packages (from attacut) (5.3.1)\n",
            "Requirement already satisfied: ssg>=0.0.4 in /usr/local/lib/python3.6/dist-packages (from attacut) (0.0.6)\n",
            "Requirement already satisfied: six>=1.12.0 in /usr/local/lib/python3.6/dist-packages (from attacut) (1.12.0)\n",
            "Requirement already satisfied: numpy>=1.17.0 in /usr/local/lib/python3.6/dist-packages (from attacut) (1.18.5)\n",
            "Requirement already satisfied: nptyping>=0.2.0 in /usr/local/lib/python3.6/dist-packages (from attacut) (1.3.0)\n",
            "Requirement already satisfied: termcolor in /usr/local/lib/python3.6/dist-packages (from fire>=0.1.3->attacut) (1.1.0)\n",
            "Requirement already satisfied: future in /usr/local/lib/python3.6/dist-packages (from torch>=1.2.0->attacut) (0.16.0)\n",
            "Requirement already satisfied: tqdm>=4.32.2 in /usr/local/lib/python3.6/dist-packages (from ssg>=0.0.4->attacut) (4.41.1)\n",
            "Requirement already satisfied: python-crfsuite>=0.9.6 in /usr/local/lib/python3.6/dist-packages (from ssg>=0.0.4->attacut) (0.9.7)\n",
            "Requirement already satisfied: typish>=1.5.2 in /usr/local/lib/python3.6/dist-packages (from nptyping>=0.2.0->attacut) (1.7.0)\n"
          ],
          "name": "stdout"
        }
      ]
    },
    {
      "cell_type": "code",
      "metadata": {
        "id": "JSZdCP3dyx-_",
        "colab_type": "code",
        "colab": {
          "base_uri": "https://localhost:8080/",
          "height": 108
        },
        "outputId": "f99e7232-62d2-4c51-c0b2-ddd51acd22a6"
      },
      "source": [
        "import gdown\n",
        "gdown.download('https://drive.google.com/uc?id=0B0ZXk88koS2KV1FJN0xRX1FxaFE&export=download', 'th.zip', quiet=False)"
      ],
      "execution_count": 5,
      "outputs": [
        {
          "output_type": "stream",
          "text": [
            "Downloading...\n",
            "From: https://drive.google.com/uc?id=0B0ZXk88koS2KV1FJN0xRX1FxaFE&export=download\n",
            "To: /content/th.zip\n",
            "122MB [00:02, 53.4MB/s]\n"
          ],
          "name": "stderr"
        },
        {
          "output_type": "execute_result",
          "data": {
            "application/vnd.google.colaboratory.intrinsic": {
              "type": "string"
            },
            "text/plain": [
              "'th.zip'"
            ]
          },
          "metadata": {
            "tags": []
          },
          "execution_count": 5
        }
      ]
    },
    {
      "cell_type": "code",
      "metadata": {
        "id": "PaNwFnjLy3z5",
        "colab_type": "code",
        "colab": {
          "base_uri": "https://localhost:8080/",
          "height": 90
        },
        "outputId": "eb6964e1-c09f-43f6-d26a-1937618d75ae"
      },
      "source": [
        "!unzip th.zip"
      ],
      "execution_count": 6,
      "outputs": [
        {
          "output_type": "stream",
          "text": [
            "Archive:  th.zip\n",
            "  inflating: th.bin                  \n",
            "replace th.tsv? [y]es, [n]o, [A]ll, [N]one, [r]ename: y\n",
            "  inflating: th.tsv                  \n"
          ],
          "name": "stdout"
        }
      ]
    },
    {
      "cell_type": "code",
      "metadata": {
        "id": "axxRgAyZyO8F",
        "colab_type": "code",
        "colab": {
          "base_uri": "https://localhost:8080/",
          "height": 92
        },
        "outputId": "6f407a5b-d1d5-43d1-84e3-1df73967e6b8"
      },
      "source": [
        "with open('th.tsv',encoding='utf-8') as f:\n",
        "  vocab = []\n",
        "  W = None\n",
        "  vec = ''\n",
        "  for line in f.readlines():\n",
        "    temp = line.split('\\t')\n",
        "    if len(temp) == 3:\n",
        "      vocab.append(temp[1])\n",
        "      if int(temp[0]) % 1000 == 0:\n",
        "        print('\\r' + temp[0], end='')\n",
        "      wordvector = np.fromstring(re.sub('\\s+', ' ', vec)[1:-1], sep=' ', dtype=np.float32)\n",
        "      if len(wordvector) > 0:\n",
        "        if W is None:\n",
        "          W = wordvector.copy()\n",
        "        else:\n",
        "          W = np.vstack((W, wordvector))\n",
        "      vec = temp[-1]\n",
        "    elif len(temp) == 1:\n",
        "      vec += temp[-1]\n",
        "  W = np.vstack((W, wordvector))"
      ],
      "execution_count": 7,
      "outputs": [
        {
          "output_type": "stream",
          "text": [
            "\r0"
          ],
          "name": "stdout"
        },
        {
          "output_type": "stream",
          "text": [
            "/usr/local/lib/python3.6/dist-packages/ipykernel_launcher.py:11: DeprecationWarning: string or file could not be read to its end due to unmatched data; this will raise a ValueError in the future.\n",
            "  # This is added back by InteractiveShellApp.init_path()\n"
          ],
          "name": "stderr"
        },
        {
          "output_type": "stream",
          "text": [
            "30000"
          ],
          "name": "stdout"
        }
      ]
    },
    {
      "cell_type": "code",
      "metadata": {
        "id": "3qzY5STmyenq",
        "colab_type": "code",
        "colab": {
          "base_uri": "https://localhost:8080/",
          "height": 35
        },
        "outputId": "a5ef625c-8802-4a7d-d395-1f98847826e0"
      },
      "source": [
        "len(vocab)"
      ],
      "execution_count": 8,
      "outputs": [
        {
          "output_type": "execute_result",
          "data": {
            "text/plain": [
              "30225"
            ]
          },
          "metadata": {
            "tags": []
          },
          "execution_count": 8
        }
      ]
    },
    {
      "cell_type": "code",
      "metadata": {
        "id": "kzQCrBF9zkjQ",
        "colab_type": "code",
        "colab": {}
      },
      "source": [
        "def sent2idx(x):\n",
        "  xidx = []\n",
        "  for w in tokenize(x):\n",
        "    if w in vocab:\n",
        "      xidx.append(vocab.index(w))\n",
        "  return xidx"
      ],
      "execution_count": 9,
      "outputs": []
    },
    {
      "cell_type": "code",
      "metadata": {
        "id": "L9hWAzCazn2Q",
        "colab_type": "code",
        "colab": {
          "base_uri": "https://localhost:8080/",
          "height": 108
        },
        "outputId": "a0c58350-2a83-4a82-c696-0d8bb0f624ac"
      },
      "source": [
        "Xtrain_idx = []\n",
        "ytrain = []\n",
        "labels = []\n",
        "maxlen = 0\n",
        "for x in data[\"intents\"]:\n",
        "  print(x[\"patterns\"])\n",
        "  for word in x[\"patterns\"]:\n",
        "    Xtrain_idx.append(sent2idx(word))\n",
        "    if len(Xtrain_idx[-1]) > maxlen:\n",
        "      maxlen = len(Xtrain_idx[-1])\n",
        "    ytrain.append(x[\"tag\"])\n",
        "  if x[\"tag\"] not in labels:\n",
        "    labels.append(x[\"tag\"])"
      ],
      "execution_count": 10,
      "outputs": [
        {
          "output_type": "stream",
          "text": [
            "['ว่าไง', 'สวัสดีครับ', 'มีใครอยู่ไหม', 'หวัดดี', 'ดีครับ']\n",
            "['บาย', 'เจอกันใหม่', 'ไปละ', 'เจอกัน']\n",
            "['ขอบคุณค้าบ', 'ขอบใจมาก', 'มันช่วยเหลือเราเยอะเลย']\n",
            "['เปิดร้านกี่โมง', 'กี่โมงเปิดร้าน', 'เปิดร้านตอนไหน']\n",
            "['ใช้บัตรเครดิตได้ไหม', 'ใช้มาสเตอร์การ์ดได้ปะ', 'ใช้เงินจ่ายได้แค่ช่องทางเดียวหรอ']\n"
          ],
          "name": "stdout"
        }
      ]
    },
    {
      "cell_type": "code",
      "metadata": {
        "id": "_hWh-R7Czycx",
        "colab_type": "code",
        "colab": {}
      },
      "source": [
        "Xtrain_idx"
      ],
      "execution_count": null,
      "outputs": []
    },
    {
      "cell_type": "code",
      "metadata": {
        "id": "yvX8mAmu6naV",
        "colab_type": "code",
        "colab": {}
      },
      "source": [
        "def setmaxlen(data,maxlen):\n",
        "  datamaxlen = []\n",
        "  for i,x in enumerate(data):\n",
        "    if len(x) < maxlen:\n",
        "      datamaxlen.append(np.hstack((x,np.zeros(maxlen-len(x)))))\n",
        "  return datamaxlen"
      ],
      "execution_count": 65,
      "outputs": []
    },
    {
      "cell_type": "code",
      "metadata": {
        "id": "lY6J9iSg06bG",
        "colab_type": "code",
        "colab": {}
      },
      "source": [
        "Xtrain_maxlen = setmaxlen(Xtrain_idx,maxlen)"
      ],
      "execution_count": 66,
      "outputs": []
    },
    {
      "cell_type": "code",
      "metadata": {
        "id": "92h-MogM1jry",
        "colab_type": "code",
        "colab": {
          "base_uri": "https://localhost:8080/",
          "height": 635
        },
        "outputId": "9b8d6bda-49f0-46b8-ec95-e096c4304a71"
      },
      "source": [
        "Xtrain_maxlen = np.array(Xtrain_maxlen)\n",
        "Xtrain_maxlen"
      ],
      "execution_count": 67,
      "outputs": [
        {
          "output_type": "execute_result",
          "data": {
            "text/plain": [
              "array([[1.5000e+01, 6.0790e+03, 0.0000e+00, 0.0000e+00, 0.0000e+00,\n",
              "        0.0000e+00, 0.0000e+00],\n",
              "       [4.7400e+03, 3.4600e+02, 0.0000e+00, 0.0000e+00, 0.0000e+00,\n",
              "        0.0000e+00, 0.0000e+00],\n",
              "       [7.0000e+00, 7.8100e+02, 2.4000e+01, 1.4280e+03, 0.0000e+00,\n",
              "        0.0000e+00, 0.0000e+00],\n",
              "       [4.1880e+03, 7.7000e+01, 0.0000e+00, 0.0000e+00, 0.0000e+00,\n",
              "        0.0000e+00, 0.0000e+00],\n",
              "       [7.7000e+01, 3.4600e+02, 0.0000e+00, 0.0000e+00, 0.0000e+00,\n",
              "        0.0000e+00, 0.0000e+00],\n",
              "       [4.1640e+03, 0.0000e+00, 0.0000e+00, 0.0000e+00, 0.0000e+00,\n",
              "        0.0000e+00, 0.0000e+00],\n",
              "       [1.0410e+03, 4.0000e+01, 1.3200e+02, 0.0000e+00, 0.0000e+00,\n",
              "        0.0000e+00, 0.0000e+00],\n",
              "       [1.7000e+01, 6.0800e+02, 0.0000e+00, 0.0000e+00, 0.0000e+00,\n",
              "        0.0000e+00, 0.0000e+00],\n",
              "       [1.0410e+03, 4.0000e+01, 0.0000e+00, 0.0000e+00, 0.0000e+00,\n",
              "        0.0000e+00, 0.0000e+00],\n",
              "       [2.2610e+03, 0.0000e+00, 0.0000e+00, 0.0000e+00, 0.0000e+00,\n",
              "        0.0000e+00, 0.0000e+00],\n",
              "       [1.4731e+04, 5.8000e+01, 0.0000e+00, 0.0000e+00, 0.0000e+00,\n",
              "        0.0000e+00, 0.0000e+00],\n",
              "       [2.6000e+02, 8.5400e+02, 4.5800e+02, 3.6090e+03, 4.9200e+02,\n",
              "        0.0000e+00, 0.0000e+00],\n",
              "       [2.0500e+02, 9.7000e+02, 1.5770e+03, 5.0020e+03, 0.0000e+00,\n",
              "        0.0000e+00, 0.0000e+00],\n",
              "       [1.5770e+03, 5.0020e+03, 2.0500e+02, 9.7000e+02, 0.0000e+00,\n",
              "        0.0000e+00, 0.0000e+00],\n",
              "       [2.0500e+02, 9.7000e+02, 1.3500e+02, 1.3630e+03, 0.0000e+00,\n",
              "        0.0000e+00, 0.0000e+00],\n",
              "       [2.6000e+01, 2.3520e+03, 6.1030e+03, 8.0000e+00, 1.4280e+03,\n",
              "        0.0000e+00, 0.0000e+00],\n",
              "       [2.6000e+01, 2.9110e+03, 1.4190e+03, 8.0000e+00, 2.0490e+03,\n",
              "        0.0000e+00, 0.0000e+00]])"
            ]
          },
          "metadata": {
            "tags": []
          },
          "execution_count": 67
        }
      ]
    },
    {
      "cell_type": "code",
      "metadata": {
        "id": "PUxtAsB2z2U3",
        "colab_type": "code",
        "colab": {
          "base_uri": "https://localhost:8080/",
          "height": 345
        },
        "outputId": "63778743-1e07-4eef-cdb2-4621664e17d7"
      },
      "source": [
        "ytrain"
      ],
      "execution_count": 42,
      "outputs": [
        {
          "output_type": "execute_result",
          "data": {
            "text/plain": [
              "['ทักทาย',\n",
              " 'ทักทาย',\n",
              " 'ทักทาย',\n",
              " 'ทักทาย',\n",
              " 'ทักทาย',\n",
              " 'การจากลา',\n",
              " 'การจากลา',\n",
              " 'การจากลา',\n",
              " 'การจากลา',\n",
              " 'ขอบคุณ',\n",
              " 'ขอบคุณ',\n",
              " 'ขอบคุณ',\n",
              " 'เวลาเปิดร้าน',\n",
              " 'เวลาเปิดร้าน',\n",
              " 'เวลาเปิดร้าน',\n",
              " 'ช่องทางจ่ายตัง',\n",
              " 'ช่องทางจ่ายตัง',\n",
              " 'ช่องทางจ่ายตัง']"
            ]
          },
          "metadata": {
            "tags": []
          },
          "execution_count": 42
        }
      ]
    },
    {
      "cell_type": "code",
      "metadata": {
        "id": "bdGKIr1-0xa1",
        "colab_type": "code",
        "colab": {
          "base_uri": "https://localhost:8080/",
          "height": 345
        },
        "outputId": "84ae6e68-b4d3-4706-e9be-4662e604f798"
      },
      "source": [
        "ytrain_onehot = []\n",
        "for i in ytrain:\n",
        "  bag = [0 for _ in range(len(labels))]\n",
        "  bag[labels.index(i)] = 1\n",
        "  ytrain_onehot.append(bag)\n",
        "ytrain_onehot = np.array(ytrain_onehot)\n",
        "ytrain_onehot"
      ],
      "execution_count": 22,
      "outputs": [
        {
          "output_type": "execute_result",
          "data": {
            "text/plain": [
              "array([[1, 0, 0, 0, 0],\n",
              "       [1, 0, 0, 0, 0],\n",
              "       [1, 0, 0, 0, 0],\n",
              "       [1, 0, 0, 0, 0],\n",
              "       [1, 0, 0, 0, 0],\n",
              "       [0, 1, 0, 0, 0],\n",
              "       [0, 1, 0, 0, 0],\n",
              "       [0, 1, 0, 0, 0],\n",
              "       [0, 1, 0, 0, 0],\n",
              "       [0, 0, 1, 0, 0],\n",
              "       [0, 0, 1, 0, 0],\n",
              "       [0, 0, 1, 0, 0],\n",
              "       [0, 0, 0, 1, 0],\n",
              "       [0, 0, 0, 1, 0],\n",
              "       [0, 0, 0, 1, 0],\n",
              "       [0, 0, 0, 0, 1],\n",
              "       [0, 0, 0, 0, 1],\n",
              "       [0, 0, 0, 0, 1]])"
            ]
          },
          "metadata": {
            "tags": []
          },
          "execution_count": 22
        }
      ]
    },
    {
      "cell_type": "code",
      "metadata": {
        "id": "gkfttg3h3mFx",
        "colab_type": "code",
        "colab": {}
      },
      "source": [
        "model.get_layer('embed').set_weights([W])\n",
        "model.get_layer('embed').trainable = False"
      ],
      "execution_count": 27,
      "outputs": []
    },
    {
      "cell_type": "code",
      "metadata": {
        "id": "cDOgmKXr2PuA",
        "colab_type": "code",
        "colab": {}
      },
      "source": [
        "model = keras.Sequential()\n",
        "model.add(keras.layers.Embedding(W.shape[0], W.shape[1], name='embed'))\n",
        "model.add(keras.layers.Bidirectional(keras.layers.LSTM(8, return_sequences=True)))\n",
        "model.add(keras.layers.Bidirectional(keras.layers.LSTM(4)))\n",
        "model.add(keras.layers.Dense(64, activation='relu'))\n",
        "model.add(keras.layers.Dense(5,activation=\"softmax\"))\n",
        "\n",
        "model.compile(loss=keras.losses.mean_squared_error, optimizer=keras.optimizers.Adam())\n",
        "\n",
        "model.fit(Xtrain_maxlen,ytrain_onehot[:17], epochs=500)"
      ],
      "execution_count": null,
      "outputs": []
    },
    {
      "cell_type": "code",
      "metadata": {
        "id": "vSi5mWfK4Tdz",
        "colab_type": "code",
        "colab": {
          "base_uri": "https://localhost:8080/",
          "height": 35
        },
        "outputId": "db30afcb-a90c-4488-dceb-1030988592e1"
      },
      "source": [
        "test_idx = []\n",
        "test = \"จ่ายตัง\"\n",
        "test_idx.append(sent2idx(test))\n",
        "test_idx"
      ],
      "execution_count": 60,
      "outputs": [
        {
          "output_type": "execute_result",
          "data": {
            "text/plain": [
              "[[1183, 3286]]"
            ]
          },
          "metadata": {
            "tags": []
          },
          "execution_count": 60
        }
      ]
    },
    {
      "cell_type": "code",
      "metadata": {
        "id": "S4sHs_Vl4mBO",
        "colab_type": "code",
        "colab": {
          "base_uri": "https://localhost:8080/",
          "height": 35
        },
        "outputId": "2fd7de18-ae70-416c-b396-e3d540feddb3"
      },
      "source": [
        "test = setmaxlen(test_idx,maxlen)\n",
        "test"
      ],
      "execution_count": 68,
      "outputs": [
        {
          "output_type": "execute_result",
          "data": {
            "text/plain": [
              "[array([1183., 3286.,    0.,    0.,    0.,    0.,    0.])]"
            ]
          },
          "metadata": {
            "tags": []
          },
          "execution_count": 68
        }
      ]
    },
    {
      "cell_type": "code",
      "metadata": {
        "id": "xPQRxLC_51UV",
        "colab_type": "code",
        "colab": {
          "base_uri": "https://localhost:8080/",
          "height": 35
        },
        "outputId": "55e74261-7a21-4591-bde8-3200af07182c"
      },
      "source": [
        "labels"
      ],
      "execution_count": 47,
      "outputs": [
        {
          "output_type": "execute_result",
          "data": {
            "text/plain": [
              "['ทักทาย', 'การจากลา', 'ขอบคุณ', 'เวลาเปิดร้าน', 'ช่องทางจ่ายตัง']"
            ]
          },
          "metadata": {
            "tags": []
          },
          "execution_count": 47
        }
      ]
    },
    {
      "cell_type": "code",
      "metadata": {
        "id": "2toKrktL5yNn",
        "colab_type": "code",
        "colab": {
          "base_uri": "https://localhost:8080/",
          "height": 163
        },
        "outputId": "5abc837f-54d1-4500-bdd0-beddf281b4aa"
      },
      "source": [
        "model.predict(test)"
      ],
      "execution_count": 63,
      "outputs": [
        {
          "output_type": "execute_result",
          "data": {
            "text/plain": [
              "array([[0.15185165, 0.18994288, 0.22474614, 0.17496692, 0.2584924 ],\n",
              "       [0.14698254, 0.18514676, 0.2238651 , 0.18142454, 0.26258102],\n",
              "       [0.13214552, 0.16310799, 0.38691843, 0.1751777 , 0.14265041],\n",
              "       [0.13214552, 0.16310799, 0.38691843, 0.1751777 , 0.14265041],\n",
              "       [0.13214552, 0.16310799, 0.38691843, 0.1751777 , 0.14265041],\n",
              "       [0.13214552, 0.16310799, 0.38691843, 0.1751777 , 0.14265041],\n",
              "       [0.13214552, 0.16310799, 0.38691843, 0.1751777 , 0.14265041]],\n",
              "      dtype=float32)"
            ]
          },
          "metadata": {
            "tags": []
          },
          "execution_count": 63
        }
      ]
    },
    {
      "cell_type": "code",
      "metadata": {
        "id": "T96MIl2k3i_X",
        "colab_type": "code",
        "colab": {
          "base_uri": "https://localhost:8080/",
          "height": 35
        },
        "outputId": "d02b96cc-b3ac-4439-d501-9f8c7c881e96"
      },
      "source": [
        "labels[np.argmax(model.predict(test)[0])]"
      ],
      "execution_count": 64,
      "outputs": [
        {
          "output_type": "execute_result",
          "data": {
            "application/vnd.google.colaboratory.intrinsic": {
              "type": "string"
            },
            "text/plain": [
              "'ช่องทางจ่ายตัง'"
            ]
          },
          "metadata": {
            "tags": []
          },
          "execution_count": 64
        }
      ]
    }
  ]
}