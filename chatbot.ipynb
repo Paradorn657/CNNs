{
  "nbformat": 4,
  "nbformat_minor": 0,
  "metadata": {
    "colab": {
      "name": "Untitled28.ipynb",
      "provenance": [],
      "toc_visible": true,
      "authorship_tag": "ABX9TyNJNO1yu6qbb445dGq4OitA",
      "include_colab_link": true
    },
    "kernelspec": {
      "name": "python3",
      "display_name": "Python 3"
    },
    "accelerator": "GPU"
  },
  "cells": [
    {
      "cell_type": "markdown",
      "metadata": {
        "id": "view-in-github",
        "colab_type": "text"
      },
      "source": [
        "<a href=\"https://colab.research.google.com/github/Paradorn657/CNNs/blob/master/chatbot.ipynb\" target=\"_parent\"><img src=\"https://colab.research.google.com/assets/colab-badge.svg\" alt=\"Open In Colab\"/></a>"
      ]
    },
    {
      "cell_type": "code",
      "metadata": {
        "id": "kMDJVaXuxB4A",
        "colab_type": "code",
        "colab": {
          "base_uri": "https://localhost:8080/",
          "height": 292
        },
        "outputId": "5b8c2735-a1bc-4d76-87f3-dffdd3454699"
      },
      "source": [
        "!pip install attacut\n",
        "import tensorflow as tf \n",
        "from tensorflow import keras\n",
        "import random\n",
        "import json\n",
        "import numpy as np\n",
        "from attacut import tokenize\n",
        "import pickle\n",
        "\n",
        "import re\n",
        "\n",
        "\n",
        "with open(\"/content/sample_data/intents.json\",encoding='utf-8') as file:\n",
        "    data = json.load(file)"
      ],
      "execution_count": 2,
      "outputs": [
        {
          "output_type": "stream",
          "text": [
            "Requirement already satisfied: attacut in /usr/local/lib/python3.6/dist-packages (1.0.6)\n",
            "Requirement already satisfied: pyyaml>=5.1.2 in /usr/local/lib/python3.6/dist-packages (from attacut) (5.3.1)\n",
            "Requirement already satisfied: torch>=1.2.0 in /usr/local/lib/python3.6/dist-packages (from attacut) (1.5.1+cu101)\n",
            "Requirement already satisfied: nptyping>=0.2.0 in /usr/local/lib/python3.6/dist-packages (from attacut) (1.3.0)\n",
            "Requirement already satisfied: ssg>=0.0.4 in /usr/local/lib/python3.6/dist-packages (from attacut) (0.0.6)\n",
            "Requirement already satisfied: fire>=0.1.3 in /usr/local/lib/python3.6/dist-packages (from attacut) (0.3.1)\n",
            "Requirement already satisfied: docopt>=0.6.2 in /usr/local/lib/python3.6/dist-packages (from attacut) (0.6.2)\n",
            "Requirement already satisfied: six>=1.12.0 in /usr/local/lib/python3.6/dist-packages (from attacut) (1.15.0)\n",
            "Requirement already satisfied: numpy>=1.17.0 in /usr/local/lib/python3.6/dist-packages (from attacut) (1.18.5)\n",
            "Requirement already satisfied: future in /usr/local/lib/python3.6/dist-packages (from torch>=1.2.0->attacut) (0.16.0)\n",
            "Requirement already satisfied: typish>=1.5.2 in /usr/local/lib/python3.6/dist-packages (from nptyping>=0.2.0->attacut) (1.7.0)\n",
            "Requirement already satisfied: python-crfsuite>=0.9.6 in /usr/local/lib/python3.6/dist-packages (from ssg>=0.0.4->attacut) (0.9.7)\n",
            "Requirement already satisfied: tqdm>=4.32.2 in /usr/local/lib/python3.6/dist-packages (from ssg>=0.0.4->attacut) (4.41.1)\n",
            "Requirement already satisfied: termcolor in /usr/local/lib/python3.6/dist-packages (from fire>=0.1.3->attacut) (1.1.0)\n"
          ],
          "name": "stdout"
        }
      ]
    },
    {
      "cell_type": "code",
      "metadata": {
        "id": "JSZdCP3dyx-_",
        "colab_type": "code",
        "colab": {
          "base_uri": "https://localhost:8080/",
          "height": 108
        },
        "outputId": "18e27769-f8b2-47d8-88d4-325db1cccb18"
      },
      "source": [
        "import gdown\n",
        "gdown.download('https://drive.google.com/uc?id=0B0ZXk88koS2KV1FJN0xRX1FxaFE&export=download', 'th.zip', quiet=False)"
      ],
      "execution_count": 3,
      "outputs": [
        {
          "output_type": "stream",
          "text": [
            "Downloading...\n",
            "From: https://drive.google.com/uc?id=0B0ZXk88koS2KV1FJN0xRX1FxaFE&export=download\n",
            "To: /content/th.zip\n",
            "122MB [00:02, 49.0MB/s]\n"
          ],
          "name": "stderr"
        },
        {
          "output_type": "execute_result",
          "data": {
            "application/vnd.google.colaboratory.intrinsic+json": {
              "type": "string"
            },
            "text/plain": [
              "'th.zip'"
            ]
          },
          "metadata": {
            "tags": []
          },
          "execution_count": 3
        }
      ]
    },
    {
      "cell_type": "code",
      "metadata": {
        "id": "PaNwFnjLy3z5",
        "colab_type": "code",
        "colab": {
          "base_uri": "https://localhost:8080/",
          "height": 72
        },
        "outputId": "827b2ff9-6859-481b-b02b-37dee93ad504"
      },
      "source": [
        "!unzip th.zip"
      ],
      "execution_count": 4,
      "outputs": [
        {
          "output_type": "stream",
          "text": [
            "Archive:  th.zip\n",
            "  inflating: th.bin                  \n",
            "  inflating: th.tsv                  \n"
          ],
          "name": "stdout"
        }
      ]
    },
    {
      "cell_type": "code",
      "metadata": {
        "id": "axxRgAyZyO8F",
        "colab_type": "code",
        "colab": {
          "base_uri": "https://localhost:8080/",
          "height": 92
        },
        "outputId": "b539f3f1-8237-48f3-c928-128261793180"
      },
      "source": [
        "with open('th.tsv',encoding='utf-8') as f:\n",
        "  vocab = []\n",
        "  W = None\n",
        "  vec = ''\n",
        "  for line in f.readlines():\n",
        "    temp = line.split('\\t')\n",
        "    if len(temp) == 3:\n",
        "      vocab.append(temp[1])\n",
        "      if int(temp[0]) % 1000 == 0:\n",
        "        print('\\r' + temp[0], end='')\n",
        "      wordvector = np.fromstring(re.sub('\\s+', ' ', vec)[1:-1], sep=' ', dtype=np.float32)\n",
        "      if len(wordvector) > 0:\n",
        "        if W is None:\n",
        "          W = wordvector.copy()\n",
        "        else:\n",
        "          W = np.vstack((W, wordvector))\n",
        "      vec = temp[-1]\n",
        "    elif len(temp) == 1:\n",
        "      vec += temp[-1]\n",
        "  W = np.vstack((W, wordvector))"
      ],
      "execution_count": 5,
      "outputs": [
        {
          "output_type": "stream",
          "text": [
            "\r0"
          ],
          "name": "stdout"
        },
        {
          "output_type": "stream",
          "text": [
            "/usr/local/lib/python3.6/dist-packages/ipykernel_launcher.py:11: DeprecationWarning: string or file could not be read to its end due to unmatched data; this will raise a ValueError in the future.\n",
            "  # This is added back by InteractiveShellApp.init_path()\n"
          ],
          "name": "stderr"
        },
        {
          "output_type": "stream",
          "text": [
            "30000"
          ],
          "name": "stdout"
        }
      ]
    },
    {
      "cell_type": "code",
      "metadata": {
        "id": "3qzY5STmyenq",
        "colab_type": "code",
        "colab": {
          "base_uri": "https://localhost:8080/",
          "height": 35
        },
        "outputId": "2c19a471-1a14-4a9f-8d2a-f2b2a3305491"
      },
      "source": [
        "len(vocab)"
      ],
      "execution_count": 6,
      "outputs": [
        {
          "output_type": "execute_result",
          "data": {
            "text/plain": [
              "30225"
            ]
          },
          "metadata": {
            "tags": []
          },
          "execution_count": 6
        }
      ]
    },
    {
      "cell_type": "code",
      "metadata": {
        "id": "kzQCrBF9zkjQ",
        "colab_type": "code",
        "colab": {}
      },
      "source": [
        "def sent2idx(x):\n",
        "  xidx = []\n",
        "  for w in tokenize(x):\n",
        "    if w in vocab:\n",
        "      xidx.append(vocab.index(w))\n",
        "  return xidx"
      ],
      "execution_count": 7,
      "outputs": []
    },
    {
      "cell_type": "code",
      "metadata": {
        "id": "L9hWAzCazn2Q",
        "colab_type": "code",
        "colab": {
          "base_uri": "https://localhost:8080/",
          "height": 108
        },
        "outputId": "7491866a-9d56-42a6-c406-57040fd3be8a"
      },
      "source": [
        "Xtrain_idx = []\n",
        "ytrain = []\n",
        "labels = []\n",
        "maxlen = 0\n",
        "for x in data[\"intents\"]:\n",
        "  print(x[\"patterns\"])\n",
        "  for word in x[\"patterns\"]:\n",
        "    Xtrain_idx.append(sent2idx(word))\n",
        "    if len(Xtrain_idx[-1]) > maxlen:\n",
        "      maxlen = len(Xtrain_idx[-1])\n",
        "    ytrain.append(x[\"tag\"])\n",
        "  if x[\"tag\"] not in labels:\n",
        "    labels.append(x[\"tag\"])"
      ],
      "execution_count": 8,
      "outputs": [
        {
          "output_type": "stream",
          "text": [
            "['ว่าไง', 'สวัสดีครับ', 'มีใครอยู่ไหม', 'หวัดดี', 'ดีครับ']\n",
            "['บาย', 'เจอกันใหม่', 'ไปละ', 'เจอกัน']\n",
            "['ขอบคุณค้าบ', 'ขอบใจมาก', 'มันช่วยเหลือเราเยอะเลย']\n",
            "['เปิดร้านกี่โมง', 'กี่โมงเปิดร้าน', 'เปิดร้านตอนไหน']\n",
            "['ใช้บัตรเครดิตได้ไหม', 'ใช้มาสเตอร์การ์ดได้ปะ', 'ใช้เงินจ่ายได้แค่ช่องทางเดียวหรอ']\n"
          ],
          "name": "stdout"
        }
      ]
    },
    {
      "cell_type": "code",
      "metadata": {
        "id": "_hWh-R7Czycx",
        "colab_type": "code",
        "colab": {
          "base_uri": "https://localhost:8080/",
          "height": 345
        },
        "outputId": "b1ce855b-0d0d-42ad-f614-1624db738cb9"
      },
      "source": [
        "Xtrain_idx"
      ],
      "execution_count": 9,
      "outputs": [
        {
          "output_type": "execute_result",
          "data": {
            "text/plain": [
              "[[15, 6079],\n",
              " [4740, 346],\n",
              " [7, 781, 24, 1428],\n",
              " [4188, 77],\n",
              " [77, 346],\n",
              " [4164],\n",
              " [1041, 40, 132],\n",
              " [17, 608],\n",
              " [1041, 40],\n",
              " [2261],\n",
              " [14731, 58],\n",
              " [260, 854, 458, 3609, 492],\n",
              " [205, 970, 1577, 5002],\n",
              " [1577, 5002, 205, 970],\n",
              " [205, 970, 135, 1363],\n",
              " [26, 2352, 6103, 8, 1428],\n",
              " [26, 2911, 1419, 8, 2049],\n",
              " [26, 286, 1183, 8, 908, 222, 11568]]"
            ]
          },
          "metadata": {
            "tags": []
          },
          "execution_count": 9
        }
      ]
    },
    {
      "cell_type": "code",
      "metadata": {
        "id": "yvX8mAmu6naV",
        "colab_type": "code",
        "colab": {}
      },
      "source": [
        "def setmaxlen(data,maxlen):\n",
        "  datamaxlen = []\n",
        "  for i,x in enumerate(data):\n",
        "    if len(x) < maxlen:\n",
        "      datamaxlen.append(np.hstack((x,np.zeros(maxlen-len(x)))))\n",
        "  return datamaxlen"
      ],
      "execution_count": 10,
      "outputs": []
    },
    {
      "cell_type": "code",
      "metadata": {
        "id": "lY6J9iSg06bG",
        "colab_type": "code",
        "colab": {}
      },
      "source": [
        "Xtrain_maxlen = setmaxlen(Xtrain_idx,maxlen)"
      ],
      "execution_count": 11,
      "outputs": []
    },
    {
      "cell_type": "code",
      "metadata": {
        "id": "92h-MogM1jry",
        "colab_type": "code",
        "colab": {
          "base_uri": "https://localhost:8080/",
          "height": 635
        },
        "outputId": "82a48970-c4be-4fea-f6dd-99c45832eece"
      },
      "source": [
        "Xtrain_maxlen = np.array(Xtrain_maxlen)\n",
        "Xtrain_maxlen"
      ],
      "execution_count": 12,
      "outputs": [
        {
          "output_type": "execute_result",
          "data": {
            "text/plain": [
              "array([[1.5000e+01, 6.0790e+03, 0.0000e+00, 0.0000e+00, 0.0000e+00,\n",
              "        0.0000e+00, 0.0000e+00],\n",
              "       [4.7400e+03, 3.4600e+02, 0.0000e+00, 0.0000e+00, 0.0000e+00,\n",
              "        0.0000e+00, 0.0000e+00],\n",
              "       [7.0000e+00, 7.8100e+02, 2.4000e+01, 1.4280e+03, 0.0000e+00,\n",
              "        0.0000e+00, 0.0000e+00],\n",
              "       [4.1880e+03, 7.7000e+01, 0.0000e+00, 0.0000e+00, 0.0000e+00,\n",
              "        0.0000e+00, 0.0000e+00],\n",
              "       [7.7000e+01, 3.4600e+02, 0.0000e+00, 0.0000e+00, 0.0000e+00,\n",
              "        0.0000e+00, 0.0000e+00],\n",
              "       [4.1640e+03, 0.0000e+00, 0.0000e+00, 0.0000e+00, 0.0000e+00,\n",
              "        0.0000e+00, 0.0000e+00],\n",
              "       [1.0410e+03, 4.0000e+01, 1.3200e+02, 0.0000e+00, 0.0000e+00,\n",
              "        0.0000e+00, 0.0000e+00],\n",
              "       [1.7000e+01, 6.0800e+02, 0.0000e+00, 0.0000e+00, 0.0000e+00,\n",
              "        0.0000e+00, 0.0000e+00],\n",
              "       [1.0410e+03, 4.0000e+01, 0.0000e+00, 0.0000e+00, 0.0000e+00,\n",
              "        0.0000e+00, 0.0000e+00],\n",
              "       [2.2610e+03, 0.0000e+00, 0.0000e+00, 0.0000e+00, 0.0000e+00,\n",
              "        0.0000e+00, 0.0000e+00],\n",
              "       [1.4731e+04, 5.8000e+01, 0.0000e+00, 0.0000e+00, 0.0000e+00,\n",
              "        0.0000e+00, 0.0000e+00],\n",
              "       [2.6000e+02, 8.5400e+02, 4.5800e+02, 3.6090e+03, 4.9200e+02,\n",
              "        0.0000e+00, 0.0000e+00],\n",
              "       [2.0500e+02, 9.7000e+02, 1.5770e+03, 5.0020e+03, 0.0000e+00,\n",
              "        0.0000e+00, 0.0000e+00],\n",
              "       [1.5770e+03, 5.0020e+03, 2.0500e+02, 9.7000e+02, 0.0000e+00,\n",
              "        0.0000e+00, 0.0000e+00],\n",
              "       [2.0500e+02, 9.7000e+02, 1.3500e+02, 1.3630e+03, 0.0000e+00,\n",
              "        0.0000e+00, 0.0000e+00],\n",
              "       [2.6000e+01, 2.3520e+03, 6.1030e+03, 8.0000e+00, 1.4280e+03,\n",
              "        0.0000e+00, 0.0000e+00],\n",
              "       [2.6000e+01, 2.9110e+03, 1.4190e+03, 8.0000e+00, 2.0490e+03,\n",
              "        0.0000e+00, 0.0000e+00]])"
            ]
          },
          "metadata": {
            "tags": []
          },
          "execution_count": 12
        }
      ]
    },
    {
      "cell_type": "code",
      "metadata": {
        "id": "PUxtAsB2z2U3",
        "colab_type": "code",
        "colab": {
          "base_uri": "https://localhost:8080/",
          "height": 345
        },
        "outputId": "5f30d9b6-23be-4730-e887-aba584a9e15d"
      },
      "source": [
        "ytrain"
      ],
      "execution_count": 13,
      "outputs": [
        {
          "output_type": "execute_result",
          "data": {
            "text/plain": [
              "['ทักทาย',\n",
              " 'ทักทาย',\n",
              " 'ทักทาย',\n",
              " 'ทักทาย',\n",
              " 'ทักทาย',\n",
              " 'การจากลา',\n",
              " 'การจากลา',\n",
              " 'การจากลา',\n",
              " 'การจากลา',\n",
              " 'ขอบคุณ',\n",
              " 'ขอบคุณ',\n",
              " 'ขอบคุณ',\n",
              " 'เวลาเปิดร้าน',\n",
              " 'เวลาเปิดร้าน',\n",
              " 'เวลาเปิดร้าน',\n",
              " 'ช่องทางจ่ายตัง',\n",
              " 'ช่องทางจ่ายตัง',\n",
              " 'ช่องทางจ่ายตัง']"
            ]
          },
          "metadata": {
            "tags": []
          },
          "execution_count": 13
        }
      ]
    },
    {
      "cell_type": "code",
      "metadata": {
        "id": "bdGKIr1-0xa1",
        "colab_type": "code",
        "colab": {
          "base_uri": "https://localhost:8080/",
          "height": 345
        },
        "outputId": "ddc69861-16ce-4ca5-8c26-6987ccef7e88"
      },
      "source": [
        "ytrain_onehot = []\n",
        "for i in ytrain:\n",
        "  bag = [0 for _ in range(len(labels))]\n",
        "  bag[labels.index(i)] = 1\n",
        "  ytrain_onehot.append(bag)\n",
        "ytrain_onehot = np.array(ytrain_onehot)\n",
        "ytrain_onehot"
      ],
      "execution_count": 14,
      "outputs": [
        {
          "output_type": "execute_result",
          "data": {
            "text/plain": [
              "array([[1, 0, 0, 0, 0],\n",
              "       [1, 0, 0, 0, 0],\n",
              "       [1, 0, 0, 0, 0],\n",
              "       [1, 0, 0, 0, 0],\n",
              "       [1, 0, 0, 0, 0],\n",
              "       [0, 1, 0, 0, 0],\n",
              "       [0, 1, 0, 0, 0],\n",
              "       [0, 1, 0, 0, 0],\n",
              "       [0, 1, 0, 0, 0],\n",
              "       [0, 0, 1, 0, 0],\n",
              "       [0, 0, 1, 0, 0],\n",
              "       [0, 0, 1, 0, 0],\n",
              "       [0, 0, 0, 1, 0],\n",
              "       [0, 0, 0, 1, 0],\n",
              "       [0, 0, 0, 1, 0],\n",
              "       [0, 0, 0, 0, 1],\n",
              "       [0, 0, 0, 0, 1],\n",
              "       [0, 0, 0, 0, 1]])"
            ]
          },
          "metadata": {
            "tags": []
          },
          "execution_count": 14
        }
      ]
    },
    {
      "cell_type": "code",
      "metadata": {
        "id": "cDOgmKXr2PuA",
        "colab_type": "code",
        "colab": {}
      },
      "source": [
        "model = keras.Sequential()\n",
        "model.add(keras.layers.Embedding(W.shape[0], W.shape[1], name='embed'))\n",
        "model.add(keras.layers.Bidirectional(keras.layers.LSTM(8, return_sequences=True)))\n",
        "model.add(keras.layers.Bidirectional(keras.layers.LSTM(4)))\n",
        "model.add(keras.layers.Dense(64, activation='relu'))\n",
        "model.add(keras.layers.Dense(5,activation=\"softmax\"))\n",
        "\n",
        "model.compile(loss=keras.losses.mean_squared_error, optimizer=keras.optimizers.Adam())\n",
        "model.get_layer('embed').set_weights([W])\n",
        "model.get_layer('embed').trainable = False\n",
        "model.fit(Xtrain_maxlen,ytrain_onehot[:17], epochs=500)"
      ],
      "execution_count": null,
      "outputs": []
    },
    {
      "cell_type": "code",
      "metadata": {
        "id": "IS1rneMz4rxP",
        "colab_type": "code",
        "colab": {
          "base_uri": "https://localhost:8080/",
          "height": 181
        },
        "outputId": "b269c431-eb27-4339-80a0-6ab537185b20"
      },
      "source": [
        "response = []\n",
        "for res in data[\"intents\"]:\n",
        "  response.append(res[\"responses\"])\n",
        "response"
      ],
      "execution_count": 32,
      "outputs": [
        {
          "output_type": "execute_result",
          "data": {
            "text/plain": [
              "[['สวัสดีครับผม ภราดรบอท นะ',\n",
              "  'ดีใจที่ได้คุยด้วยนะครับ',\n",
              "  'ว่าไงให้เราช่วยอะไร'],\n",
              " ['เจอกันใหม่น้า, ขอบคุณที่เข้ามาคุยด้วย *_* ',\n",
              "  'Have a nice day เด้อ',\n",
              "  'Bye! ไว้มาคุยกับเราด้วย.'],\n",
              " ['ดีใจที่ได้ช่วยนะครับ!!', 'ไม่เป็นไรค้าบยินดีช่วยเหลือ', 'โอเคครับ'],\n",
              " ['เราเปิดทุกวันเวลา 9 โมง- 3 ทุ่ม', 'Our hours are 9am-9pm every day'],\n",
              " ['We accept VISA, Mastercard and AMEX', 'We accept most major credit cards']]"
            ]
          },
          "metadata": {
            "tags": []
          },
          "execution_count": 32
        }
      ]
    },
    {
      "cell_type": "code",
      "metadata": {
        "id": "ywPat4HR2CSm",
        "colab_type": "code",
        "colab": {}
      },
      "source": [
        "def talkwithbot(message):\n",
        "  message_idx = []\n",
        "  message_idx.append(sent2idx(message))\n",
        "  message_maxlen = setmaxlen(message_idx,maxlen)\n",
        "  labels_predict = labels[np.argmax(model.predict(message_maxlen)[0])]\n",
        "  response_list = response[labels.index(labels_predict)]\n",
        "  return response_list[random.randint(0,len(response_list)-1)]"
      ],
      "execution_count": 45,
      "outputs": []
    },
    {
      "cell_type": "code",
      "metadata": {
        "id": "4OUTn9V62jC4",
        "colab_type": "code",
        "colab": {
          "base_uri": "https://localhost:8080/",
          "height": 922
        },
        "outputId": "baae1599-7659-4e3f-fa90-6e6e078d109e"
      },
      "source": [
        "while True:\n",
        "  message = input(\"you > \")\n",
        "  bot_reply = talkwithbot(message)\n",
        "  print(\"bot > {}\".format(bot_reply))"
      ],
      "execution_count": 47,
      "outputs": [
        {
          "output_type": "stream",
          "text": [
            "you > หวัดดี\n",
            "bot > ดีใจที่ได้คุยด้วยนะครับ\n",
            "you > จ่ายตัง\n",
            "bot > ไม่เป็นไรค้าบยินดีช่วยเหลือ\n",
            "you > บัตรเครดิตได้ไหม\n",
            "bot > We accept VISA, Mastercard and AMEX\n",
            "you > กี่โมงละ\n",
            "bot > เจอกันใหม่น้า, ขอบคุณที่เข้ามาคุยด้วย *_* \n",
            "you > เออ\n",
            "bot > Bye! ไว้มาคุยกับเราด้วย.\n",
            "you > ไปละนะครับ\n",
            "bot > Bye! ไว้มาคุยกับเราด้วย.\n",
            "you > หวัดดีค้าบ\n",
            "bot > ดีใจที่ได้คุยด้วยนะครับ\n",
            "you > ว่า\n",
            "bot > สวัสดีครับผม ภราดรบอท นะ\n",
            "you > ตอนไหน\n",
            "bot > Our hours are 9am-9pm every day\n"
          ],
          "name": "stdout"
        },
        {
          "output_type": "error",
          "ename": "KeyboardInterrupt",
          "evalue": "ignored",
          "traceback": [
            "\u001b[0;31m---------------------------------------------------------------------------\u001b[0m",
            "\u001b[0;31mKeyboardInterrupt\u001b[0m                         Traceback (most recent call last)",
            "\u001b[0;32m/usr/local/lib/python3.6/dist-packages/ipykernel/kernelbase.py\u001b[0m in \u001b[0;36m_input_request\u001b[0;34m(self, prompt, ident, parent, password)\u001b[0m\n\u001b[1;32m    728\u001b[0m             \u001b[0;32mtry\u001b[0m\u001b[0;34m:\u001b[0m\u001b[0;34m\u001b[0m\u001b[0;34m\u001b[0m\u001b[0m\n\u001b[0;32m--> 729\u001b[0;31m                 \u001b[0mident\u001b[0m\u001b[0;34m,\u001b[0m \u001b[0mreply\u001b[0m \u001b[0;34m=\u001b[0m \u001b[0mself\u001b[0m\u001b[0;34m.\u001b[0m\u001b[0msession\u001b[0m\u001b[0;34m.\u001b[0m\u001b[0mrecv\u001b[0m\u001b[0;34m(\u001b[0m\u001b[0mself\u001b[0m\u001b[0;34m.\u001b[0m\u001b[0mstdin_socket\u001b[0m\u001b[0;34m,\u001b[0m \u001b[0;36m0\u001b[0m\u001b[0;34m)\u001b[0m\u001b[0;34m\u001b[0m\u001b[0;34m\u001b[0m\u001b[0m\n\u001b[0m\u001b[1;32m    730\u001b[0m             \u001b[0;32mexcept\u001b[0m \u001b[0mException\u001b[0m\u001b[0;34m:\u001b[0m\u001b[0;34m\u001b[0m\u001b[0;34m\u001b[0m\u001b[0m\n",
            "\u001b[0;32m/usr/local/lib/python3.6/dist-packages/jupyter_client/session.py\u001b[0m in \u001b[0;36mrecv\u001b[0;34m(self, socket, mode, content, copy)\u001b[0m\n\u001b[1;32m    802\u001b[0m         \u001b[0;32mtry\u001b[0m\u001b[0;34m:\u001b[0m\u001b[0;34m\u001b[0m\u001b[0;34m\u001b[0m\u001b[0m\n\u001b[0;32m--> 803\u001b[0;31m             \u001b[0mmsg_list\u001b[0m \u001b[0;34m=\u001b[0m \u001b[0msocket\u001b[0m\u001b[0;34m.\u001b[0m\u001b[0mrecv_multipart\u001b[0m\u001b[0;34m(\u001b[0m\u001b[0mmode\u001b[0m\u001b[0;34m,\u001b[0m \u001b[0mcopy\u001b[0m\u001b[0;34m=\u001b[0m\u001b[0mcopy\u001b[0m\u001b[0;34m)\u001b[0m\u001b[0;34m\u001b[0m\u001b[0;34m\u001b[0m\u001b[0m\n\u001b[0m\u001b[1;32m    804\u001b[0m         \u001b[0;32mexcept\u001b[0m \u001b[0mzmq\u001b[0m\u001b[0;34m.\u001b[0m\u001b[0mZMQError\u001b[0m \u001b[0;32mas\u001b[0m \u001b[0me\u001b[0m\u001b[0;34m:\u001b[0m\u001b[0;34m\u001b[0m\u001b[0;34m\u001b[0m\u001b[0m\n",
            "\u001b[0;32m/usr/local/lib/python3.6/dist-packages/zmq/sugar/socket.py\u001b[0m in \u001b[0;36mrecv_multipart\u001b[0;34m(self, flags, copy, track)\u001b[0m\n\u001b[1;32m    474\u001b[0m         \"\"\"\n\u001b[0;32m--> 475\u001b[0;31m         \u001b[0mparts\u001b[0m \u001b[0;34m=\u001b[0m \u001b[0;34m[\u001b[0m\u001b[0mself\u001b[0m\u001b[0;34m.\u001b[0m\u001b[0mrecv\u001b[0m\u001b[0;34m(\u001b[0m\u001b[0mflags\u001b[0m\u001b[0;34m,\u001b[0m \u001b[0mcopy\u001b[0m\u001b[0;34m=\u001b[0m\u001b[0mcopy\u001b[0m\u001b[0;34m,\u001b[0m \u001b[0mtrack\u001b[0m\u001b[0;34m=\u001b[0m\u001b[0mtrack\u001b[0m\u001b[0;34m)\u001b[0m\u001b[0;34m]\u001b[0m\u001b[0;34m\u001b[0m\u001b[0;34m\u001b[0m\u001b[0m\n\u001b[0m\u001b[1;32m    476\u001b[0m         \u001b[0;31m# have first part already, only loop while more to receive\u001b[0m\u001b[0;34m\u001b[0m\u001b[0;34m\u001b[0m\u001b[0;34m\u001b[0m\u001b[0m\n",
            "\u001b[0;32mzmq/backend/cython/socket.pyx\u001b[0m in \u001b[0;36mzmq.backend.cython.socket.Socket.recv\u001b[0;34m()\u001b[0m\n",
            "\u001b[0;32mzmq/backend/cython/socket.pyx\u001b[0m in \u001b[0;36mzmq.backend.cython.socket.Socket.recv\u001b[0;34m()\u001b[0m\n",
            "\u001b[0;32mzmq/backend/cython/socket.pyx\u001b[0m in \u001b[0;36mzmq.backend.cython.socket._recv_copy\u001b[0;34m()\u001b[0m\n",
            "\u001b[0;32m/usr/local/lib/python3.6/dist-packages/zmq/backend/cython/checkrc.pxd\u001b[0m in \u001b[0;36mzmq.backend.cython.checkrc._check_rc\u001b[0;34m()\u001b[0m\n",
            "\u001b[0;31mKeyboardInterrupt\u001b[0m: ",
            "\nDuring handling of the above exception, another exception occurred:\n",
            "\u001b[0;31mKeyboardInterrupt\u001b[0m                         Traceback (most recent call last)",
            "\u001b[0;32m<ipython-input-47-82e3a5cb4eab>\u001b[0m in \u001b[0;36m<module>\u001b[0;34m()\u001b[0m\n\u001b[1;32m      1\u001b[0m \u001b[0;32mwhile\u001b[0m \u001b[0;32mTrue\u001b[0m\u001b[0;34m:\u001b[0m\u001b[0;34m\u001b[0m\u001b[0;34m\u001b[0m\u001b[0m\n\u001b[0;32m----> 2\u001b[0;31m   \u001b[0mmessage\u001b[0m \u001b[0;34m=\u001b[0m \u001b[0minput\u001b[0m\u001b[0;34m(\u001b[0m\u001b[0;34m\"you > \"\u001b[0m\u001b[0;34m)\u001b[0m\u001b[0;34m\u001b[0m\u001b[0;34m\u001b[0m\u001b[0m\n\u001b[0m\u001b[1;32m      3\u001b[0m   \u001b[0mbot_reply\u001b[0m \u001b[0;34m=\u001b[0m \u001b[0mtalkwithbot\u001b[0m\u001b[0;34m(\u001b[0m\u001b[0mmessage\u001b[0m\u001b[0;34m)\u001b[0m\u001b[0;34m\u001b[0m\u001b[0;34m\u001b[0m\u001b[0m\n\u001b[1;32m      4\u001b[0m   \u001b[0mprint\u001b[0m\u001b[0;34m(\u001b[0m\u001b[0;34m\"bot > {}\"\u001b[0m\u001b[0;34m.\u001b[0m\u001b[0mformat\u001b[0m\u001b[0;34m(\u001b[0m\u001b[0mbot_reply\u001b[0m\u001b[0;34m)\u001b[0m\u001b[0;34m)\u001b[0m\u001b[0;34m\u001b[0m\u001b[0;34m\u001b[0m\u001b[0m\n",
            "\u001b[0;32m/usr/local/lib/python3.6/dist-packages/ipykernel/kernelbase.py\u001b[0m in \u001b[0;36mraw_input\u001b[0;34m(self, prompt)\u001b[0m\n\u001b[1;32m    702\u001b[0m             \u001b[0mself\u001b[0m\u001b[0;34m.\u001b[0m\u001b[0m_parent_ident\u001b[0m\u001b[0;34m,\u001b[0m\u001b[0;34m\u001b[0m\u001b[0;34m\u001b[0m\u001b[0m\n\u001b[1;32m    703\u001b[0m             \u001b[0mself\u001b[0m\u001b[0;34m.\u001b[0m\u001b[0m_parent_header\u001b[0m\u001b[0;34m,\u001b[0m\u001b[0;34m\u001b[0m\u001b[0;34m\u001b[0m\u001b[0m\n\u001b[0;32m--> 704\u001b[0;31m             \u001b[0mpassword\u001b[0m\u001b[0;34m=\u001b[0m\u001b[0;32mFalse\u001b[0m\u001b[0;34m,\u001b[0m\u001b[0;34m\u001b[0m\u001b[0;34m\u001b[0m\u001b[0m\n\u001b[0m\u001b[1;32m    705\u001b[0m         )\n\u001b[1;32m    706\u001b[0m \u001b[0;34m\u001b[0m\u001b[0m\n",
            "\u001b[0;32m/usr/local/lib/python3.6/dist-packages/ipykernel/kernelbase.py\u001b[0m in \u001b[0;36m_input_request\u001b[0;34m(self, prompt, ident, parent, password)\u001b[0m\n\u001b[1;32m    732\u001b[0m             \u001b[0;32mexcept\u001b[0m \u001b[0mKeyboardInterrupt\u001b[0m\u001b[0;34m:\u001b[0m\u001b[0;34m\u001b[0m\u001b[0;34m\u001b[0m\u001b[0m\n\u001b[1;32m    733\u001b[0m                 \u001b[0;31m# re-raise KeyboardInterrupt, to truncate traceback\u001b[0m\u001b[0;34m\u001b[0m\u001b[0;34m\u001b[0m\u001b[0;34m\u001b[0m\u001b[0m\n\u001b[0;32m--> 734\u001b[0;31m                 \u001b[0;32mraise\u001b[0m \u001b[0mKeyboardInterrupt\u001b[0m\u001b[0;34m\u001b[0m\u001b[0;34m\u001b[0m\u001b[0m\n\u001b[0m\u001b[1;32m    735\u001b[0m             \u001b[0;32melse\u001b[0m\u001b[0;34m:\u001b[0m\u001b[0;34m\u001b[0m\u001b[0;34m\u001b[0m\u001b[0m\n\u001b[1;32m    736\u001b[0m                 \u001b[0;32mbreak\u001b[0m\u001b[0;34m\u001b[0m\u001b[0;34m\u001b[0m\u001b[0m\n",
            "\u001b[0;31mKeyboardInterrupt\u001b[0m: "
          ]
        }
      ]
    }
  ]
}